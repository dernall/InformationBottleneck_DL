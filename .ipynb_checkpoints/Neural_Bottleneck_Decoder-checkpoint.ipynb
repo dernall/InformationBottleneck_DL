{
 "cells": [
  {
   "cell_type": "code",
   "execution_count": 2,
   "metadata": {},
   "outputs": [],
   "source": [
    "import numpy as np"
   ]
  },
  {
   "cell_type": "code",
   "execution_count": 3,
   "metadata": {},
   "outputs": [],
   "source": [
    "class AWGN_channel:\n",
    "    \"\"\" Class implements an additive white Gaussian noise channel\n",
    "\n",
    "    The added noise can either be real or complex depending on the arguments of the constructor.\n",
    "    The default value is real.\n",
    "\n",
    "    Attributes:\n",
    "        sigma_n2: a double setting noise variance\n",
    "        complex: a boolean value indicating if noise is complex or not\n",
    "    \"\"\"\n",
    "    def __init__(self, sigma_n2_, complex =False):\n",
    "        \"\"\"Inits the AWGN_channel class\n",
    "        Args:\n",
    "            sigma_n2_: noise variance specified by user\n",
    "            complex: default is false, indicating if noise is complex\n",
    "        \"\"\"\n",
    "        self.sigma_n2 = sigma_n2_\n",
    "        self.complex = complex\n",
    "\n",
    "    def transmission(self, input):\n",
    "        \"\"\"Performs the transmission of an input stream over an AWGN channel\n",
    "        Args:\n",
    "            input: sequence of symbols as numpy array or scalar\n",
    "        Returns:\n",
    "            output: summation of noise and input\n",
    "        \"\"\"\n",
    "        if self.complex:\n",
    "            noise = np.sqrt(self.sigma_n2/2) * np.random.randn(input.shape[0], input.shape[1]) + \\\n",
    "                    1j * np.sqrt(self.sigma_n2/2) * np.random.randn(input.shape[0], input.shape[1])\n",
    "\n",
    "        else:\n",
    "            noise = np.sqrt(self.sigma_n2) * np.random.randn(input.shape[0],input.shape[1])\n",
    "\n",
    "        output = input + noise\n",
    "\n",
    "        return output"
   ]
  },
  {
   "cell_type": "code",
   "execution_count": null,
   "metadata": {},
   "outputs": [],
   "source": []
  }
 ],
 "metadata": {
  "kernelspec": {
   "display_name": "Python 3 (ipykernel)",
   "language": "python",
   "name": "python3"
  },
  "language_info": {
   "codemirror_mode": {
    "name": "ipython",
    "version": 3
   },
   "file_extension": ".py",
   "mimetype": "text/x-python",
   "name": "python",
   "nbconvert_exporter": "python",
   "pygments_lexer": "ipython3",
   "version": "3.9.12"
  },
  "vscode": {
   "interpreter": {
    "hash": "55c96426c209bb0b838a038f619d6b23b91504976d406b82cd1da81686961396"
   }
  }
 },
 "nbformat": 4,
 "nbformat_minor": 4
}
