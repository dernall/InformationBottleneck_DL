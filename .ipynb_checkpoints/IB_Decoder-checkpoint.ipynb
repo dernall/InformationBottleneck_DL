{
 "cells": [
  {
   "cell_type": "code",
   "execution_count": 1,
   "metadata": {},
   "outputs": [],
   "source": [
    "import matplotlib.pyplot as plt\n",
    "import numpy as np\n",
    "import random\n",
    "%matplotlib inline\n",
    "\n",
    "import pyldpc as ldpc\n",
    "import os\n",
    "from tqdm.notebook import tqdm\n",
    "import itertools\n",
    "from scipy.stats import norm\n",
    "import scipy\n",
    "\n",
    "import torch\n",
    "from torch.utils.data import Dataset\n",
    "from torch.utils.data import DataLoader\n",
    "from utils_f import load_code\n",
    "device = torch.device('cuda' if torch.cuda.is_available() else 'cpu')"
   ]
  },
  {
   "cell_type": "code",
   "execution_count": 2,
   "metadata": {},
   "outputs": [],
   "source": [
    "sigma_n2 = 0.1 # Noise variance\n",
    "amplitudes = np.array([-1,+1]) # BPSK amplitudes are +1 and -1\n",
    "\n",
    "p_x = np.array([0.5,0.5]) # uniformly distributed transmit symbols\n",
    "\n",
    "card_Y = 2000 # choose a fine discretization of the cont. variable Y\n",
    "card_T = 16   # cardinality of the compression variable\n",
    "y = np.linspace(norm.ppf(1e-12, loc=amplitudes.min(), scale=np.sqrt(sigma_n2)),\n",
    "                norm.ppf(1-1e-12, loc=amplitudes.max(), scale=np.sqrt(sigma_n2)), card_Y) # define the eventspace\n",
    "delta_y = np.abs(y[1] - y[0])\n",
    "\n",
    "p_y_given_x = np.zeros((y.shape[0],2))\n",
    "for x_idx, x in enumerate(amplitudes):\n",
    "    p_y_given_x[:,x_idx] = norm.pdf(y, loc=x, scale=np.sqrt(sigma_n2))*delta_y\n",
    "    \n",
    "p_y_and_x = p_y_given_x * p_x\n",
    "p_y_and_x /= p_y_and_x.sum()"
   ]
  },
  {
   "cell_type": "code",
   "execution_count": null,
   "metadata": {},
   "outputs": [],
   "source": []
  }
 ],
 "metadata": {
  "kernelspec": {
   "display_name": "Python 3 (ipykernel)",
   "language": "python",
   "name": "python3"
  },
  "language_info": {
   "codemirror_mode": {
    "name": "ipython",
    "version": 3
   },
   "file_extension": ".py",
   "mimetype": "text/x-python",
   "name": "python",
   "nbconvert_exporter": "python",
   "pygments_lexer": "ipython3",
   "version": "3.9.12"
  },
  "vscode": {
   "interpreter": {
    "hash": "55c96426c209bb0b838a038f619d6b23b91504976d406b82cd1da81686961396"
   }
  }
 },
 "nbformat": 4,
 "nbformat_minor": 4
}
